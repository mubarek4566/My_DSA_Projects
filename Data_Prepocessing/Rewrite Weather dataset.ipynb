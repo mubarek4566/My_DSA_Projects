{
 "cells": [
  {
   "cell_type": "code",
   "execution_count": 2,
   "id": "198cd2e8",
   "metadata": {},
   "outputs": [],
   "source": [
    "# Load Pandas library\n",
    "import pandas as pd\n"
   ]
  },
  {
   "cell_type": "code",
   "execution_count": 9,
   "id": "ba299002",
   "metadata": {},
   "outputs": [
    {
     "name": "stdout",
     "output_type": "stream",
     "text": [
      "                NAME    GEOGR2  GEOGR1  ELEVATION ELEMENT  YEAR  MO      TIME  \\\n",
      "0    Debre Zeit (AF)  8.733333   38.95       1900  PRECIP  1990   1  09:00:00   \n",
      "1    Debre Zeit (AF)  8.733333   38.95       1900  PRECIP  1990   2  09:00:00   \n",
      "2    Debre Zeit (AF)  8.733333   38.95       1900  PRECIP  1990   3  09:00:00   \n",
      "3    Debre Zeit (AF)  8.733333   38.95       1900  PRECIP  1990   4  09:00:00   \n",
      "4    Debre Zeit (AF)  8.733333   38.95       1900  PRECIP  1990   5  09:00:00   \n",
      "..               ...       ...     ...        ...     ...   ...  ..       ...   \n",
      "107  Debre Zeit (AF)  8.733333   38.95       1900  WINDLY  2005   8  18:00:00   \n",
      "108  Debre Zeit (AF)  8.733333   38.95       1900  WINDLY  2005   9  18:00:00   \n",
      "109  Debre Zeit (AF)  8.733333   38.95       1900  WINDLY  2005  10  18:00:00   \n",
      "110  Debre Zeit (AF)  8.733333   38.95       1900  WINDLY  2005  11  18:00:00   \n",
      "111  Debre Zeit (AF)  8.733333   38.95       1900  WINDLY  2005  12  18:00:00   \n",
      "\n",
      "        1    2  ...   22    23   24    25   26    27   28    29    30   31  \n",
      "0     0.0  0.0  ...  0.0   0.0  0.0   0.0  0.0   0.0  0.0   0.0   0.0  0.0  \n",
      "1     NaN  0.1  ...  0.0   2.0  6.3  36.0  0.0  26.0  0.0   NaN   NaN  NaN  \n",
      "2     0.0  0.0  ...  0.0   0.0  0.0   0.0  0.0   0.0  0.0   0.0  42.3  0.0  \n",
      "3    13.0  NaN  ...  0.0  16.7  0.0  14.2  0.0   0.0  NaN   0.0   0.0  NaN  \n",
      "4     0.0  0.0  ...  0.0   0.0  0.6   0.0  0.0   0.0  5.7  27.0   0.0  0.0  \n",
      "..    ...  ...  ...  ...   ...  ...   ...  ...   ...  ...   ...   ...  ...  \n",
      "107   1.3  1.3  ...  1.3   1.3  1.1   0.4  1.1   1.3  1.1   0.9   1.1  1.1  \n",
      "108   0.8  0.9  ...  0.9   1.0  1.1   1.2  1.3   1.1  1.1   1.5   1.7  NaN  \n",
      "109   1.6  1.7  ...  2.0   2.0  2.2   1.8  1.4   1.9  1.5   1.3   1.3  1.5  \n",
      "110   1.6  1.4  ...  3.2   2.9  2.8   2.6  2.2   2.4  1.8   1.5   1.6  NaN  \n",
      "111   1.4  1.5  ...  1.6   1.3  1.1   1.3  1.6   2.0  2.6   2.4   1.9  1.7  \n",
      "\n",
      "[112 rows x 39 columns]\n",
      "Shape of orginal df  (112, 39)\n"
     ]
    }
   ],
   "source": [
    "excel_data_df = pd.read_excel('C:\\\\Users\\\\User\\\\Documents\\\\colab code\\\\Sample_data1.xlsx')\n",
    "print(excel_data_df)\n",
    "print(\"Shape of orginal df \",excel_data_df.shape)"
   ]
  },
  {
   "cell_type": "code",
   "execution_count": 10,
   "id": "e6a97e48",
   "metadata": {},
   "outputs": [],
   "source": [
    "# ReWrite excel file in different and understadeble format \n",
    "\n",
    "excel_data_df[\"Period\"] = excel_data_df['YEAR'].astype(str) +\"-\"+ excel_data_df[\"MO\"].astype(str)\n",
    "excel_data_df[\"day\"] = excel_data_df[1].astype(str) +\"=1-\"+ excel_data_df[2].astype(str)+\"=2-\"+ excel_data_df[3].astype(str)+\"=3-\"+ excel_data_df[4].astype(str) +\"=4-\"+ excel_data_df[5].astype(str) \\\n",
    "                       +\"=5-\"+ excel_data_df[6].astype(str)+\"=6-\"+ excel_data_df[7].astype(str)+\"=7-\"+ excel_data_df[8].astype(str)+\"=8-\"+ excel_data_df[9].astype(str)+\"=9-\"+ excel_data_df[10].astype(str) \\\n",
    "                       +\"=10-\"+ excel_data_df[11].astype(str)+\"=11-\"+ excel_data_df[12].astype(str)+\"=12-\"+ excel_data_df[13].astype(str)+\"=13-\"+ excel_data_df[14].astype(str)+\"=14-\"+ excel_data_df[15].astype(str) \\\n",
    "                       +\"=15-\"+ excel_data_df[16].astype(str)+\"=16-\"+ excel_data_df[17].astype(str)+\"=17-\"+ excel_data_df[18].astype(str)+\"=18-\"+ excel_data_df[19].astype(str)+\"=19-\"+ excel_data_df[20].astype(str) \\\n",
    "                       +\"=20-\"+ excel_data_df[21].astype(str)+\"=21-\"+ excel_data_df[22].astype(str)+\"=22-\"+ excel_data_df[23].astype(str)+\"=23-\"+ excel_data_df[24].astype(str)+\"=24-\"+ excel_data_df[25].astype(str) \\\n",
    "                       +\"=25-\"+ excel_data_df[26].astype(str)+\"=26-\"+ excel_data_df[27].astype(str)+\"=27-\"+ excel_data_df[28].astype(str)+\"=28-\"+ excel_data_df[29].astype(str)+\"=29-\"+ excel_data_df[30].astype(str) \\\n",
    "                       +\"=30-\"+ excel_data_df[31].astype(str)+\"=31\"\n"
   ]
  },
  {
   "cell_type": "code",
   "execution_count": 11,
   "id": "3ad28286",
   "metadata": {},
   "outputs": [],
   "source": [
    "# Then Mapping values with respect to date \n",
    "excel_data_df[\"Values\"] = excel_data_df[\"day\"].str.split(\"-\")\n",
    "excel_data_df = excel_data_df.explode(\"Values\")"
   ]
  },
  {
   "cell_type": "code",
   "execution_count": 12,
   "id": "61e545af",
   "metadata": {},
   "outputs": [
    {
     "name": "stdout",
     "output_type": "stream",
     "text": [
      "Shape of modified df  (3472, 44)\n"
     ]
    }
   ],
   "source": [
    "excel_data_df[['Value', 'MDay']] = excel_data_df.Values.str.split(\"=\", expand = True)\n",
    "print(\"Shape of modified df \",excel_data_df.shape)\n",
    "excel_data_df[\"DatePeriod\"] = excel_data_df['Period'].astype(str) +\"-\"+ excel_data_df[\"MDay\"].astype(str)"
   ]
  },
  {
   "cell_type": "code",
   "execution_count": 13,
   "id": "7cfe3663",
   "metadata": {},
   "outputs": [],
   "source": [
    "# Remove the duplicate from the new dataset\n",
    "del excel_data_df['Period'], excel_data_df['MDay'] , excel_data_df['day'],excel_data_df['YEAR'],excel_data_df['MO'], \\\n",
    "excel_data_df['Values'], excel_data_df[1], excel_data_df[2],excel_data_df[3], excel_data_df[4], excel_data_df[5], \\\n",
    "excel_data_df[6], excel_data_df[7],excel_data_df[8], excel_data_df[9], excel_data_df[10], excel_data_df[11], \\\n",
    "excel_data_df[12],excel_data_df[13], excel_data_df[14], excel_data_df[15], excel_data_df[16], excel_data_df[17], \\\n",
    "excel_data_df[18], excel_data_df[19], excel_data_df[20], excel_data_df[21], excel_data_df[22], excel_data_df[23], \\\n",
    "excel_data_df[24], excel_data_df[25], excel_data_df[26], excel_data_df[27], excel_data_df[28], excel_data_df[29], \\\n",
    "excel_data_df[30], excel_data_df[31]\n"
   ]
  },
  {
   "cell_type": "code",
   "execution_count": 14,
   "id": "0f9830cb",
   "metadata": {},
   "outputs": [
    {
     "name": "stdout",
     "output_type": "stream",
     "text": [
      "final shape  (3472, 8)\n"
     ]
    }
   ],
   "source": [
    "excel_data_df.to_excel(\"Weather_Data.xlsx\")\n",
    "print(\"final shape \", excel_data_df.shape)"
   ]
  },
  {
   "cell_type": "code",
   "execution_count": null,
   "id": "20312287",
   "metadata": {},
   "outputs": [],
   "source": []
  }
 ],
 "metadata": {
  "kernelspec": {
   "display_name": "Python 3 (ipykernel)",
   "language": "python",
   "name": "python3"
  },
  "language_info": {
   "codemirror_mode": {
    "name": "ipython",
    "version": 3
   },
   "file_extension": ".py",
   "mimetype": "text/x-python",
   "name": "python",
   "nbconvert_exporter": "python",
   "pygments_lexer": "ipython3",
   "version": "3.8.15"
  }
 },
 "nbformat": 4,
 "nbformat_minor": 5
}
