{
 "cells": [
  {
   "cell_type": "code",
   "execution_count": 1,
   "id": "5c135808",
   "metadata": {},
   "outputs": [],
   "source": [
    "# Loading Libraries\n",
    "import numpy as np\n",
    "import pandas as pd\n",
    "import matplotlib.pyplot as plt\n",
    "import seaborn as sns\n",
    "%matplotlib inline\n",
    "from sklearn.impute import SimpleImputer\n",
    "from sklearn.linear_model import LinearRegression"
   ]
  },
  {
   "cell_type": "code",
   "execution_count": 2,
   "id": "c21b52b7",
   "metadata": {},
   "outputs": [
    {
     "name": "stdout",
     "output_type": "stream",
     "text": [
      "        Date              Name  Elevation       Lat       Lon  TMPMAX  TMPMIN  \\\n",
      "0 1990-01-01  Addis Ababa Bole       2354  38.79871  8.981081    23.0     6.0   \n",
      "1 1990-01-02  Addis Ababa Bole       2354  38.79871  8.981081    22.5     5.0   \n",
      "2 1990-01-03  Addis Ababa Bole       2354  38.79871  8.981081    22.2     6.6   \n",
      "3 1990-01-04  Addis Ababa Bole       2354  38.79871  8.981081    24.5     4.0   \n",
      "4 1990-01-05  Addis Ababa Bole       2354  38.79871  8.981081    24.2     6.5   \n",
      "\n",
      "   RELHUM  SUNHRS  WINSPD  WINDIR  PRECIP  \n",
      "0     NaN     NaN     4.0   130.0     0.0  \n",
      "1     NaN     NaN     5.0   260.0     0.0  \n",
      "2     NaN     NaN     2.0   180.0     0.0  \n",
      "3     NaN     NaN     2.0   180.0     0.0  \n",
      "4     NaN     NaN     6.0    90.0     0.0  \n"
     ]
    }
   ],
   "source": [
    "# loading the excel file from local machine\n",
    "df = pd.read_excel('Dataset_mean_imputation.xlsx')\n",
    "print(df.head())\n",
    "# creating a copy of the dataset\n",
    "dfcopy = df.copy()"
   ]
  },
  {
   "cell_type": "markdown",
   "id": "0e71ffb2",
   "metadata": {},
   "source": [
    "# This is a weather data it is a time series dataset\n",
    "The dataset contains 30 years data, here the dataset separeted based on the seasons of the country. The country has three seasons on a year. Based on the season the dataset separeted into three files."
   ]
  },
  {
   "cell_type": "code",
   "execution_count": 3,
   "id": "a45b770a",
   "metadata": {},
   "outputs": [],
   "source": [
    "# Define the date range of the data\n",
    "start_date = pd.Timestamp('1990-01-01')\n",
    "end_date = pd.Timestamp('2020-12-31')"
   ]
  },
  {
   "cell_type": "code",
   "execution_count": 4,
   "id": "04fb49d7",
   "metadata": {},
   "outputs": [
    {
     "name": "stdout",
     "output_type": "stream",
     "text": [
      "Date          0.00\n",
      "Name          0.00\n",
      "Elevation     0.00\n",
      "Lat           0.00\n",
      "Lon           0.00\n",
      "TMPMAX        2.17\n",
      "TMPMIN        1.45\n",
      "RELHUM       36.62\n",
      "SUNHRS       51.88\n",
      "WINSPD       12.11\n",
      "WINDIR       12.06\n",
      "PRECIP        0.29\n",
      "dtype: float64\n"
     ]
    }
   ],
   "source": [
    "# Extract data from June to September for all years\n",
    "df_jun_sep = dfcopy[(dfcopy['Date'] >= start_date) & (dfcopy['Date'] <= end_date) & \n",
    "                        (dfcopy['Date'].dt.month >= 6) & (dfcopy['Date'].dt.month <= 9)]\n",
    "#print(df_jun_sep)\n",
    "\n",
    "#finding the percentage of missing values for this season\n",
    "missed_percent = df_jun_sep.isnull().sum()*100 / len(df_jun_sep)\n",
    "missed_percent = np.around(missed_percent, decimals=2)\n",
    "print(missed_percent)"
   ]
  },
  {
   "cell_type": "code",
   "execution_count": 5,
   "id": "87df147e",
   "metadata": {},
   "outputs": [
    {
     "name": "stderr",
     "output_type": "stream",
     "text": [
      "C:\\Users\\User\\AppData\\Local\\Temp\\ipykernel_6596\\3994279017.py:7: SettingWithCopyWarning: \n",
      "A value is trying to be set on a copy of a slice from a DataFrame.\n",
      "Try using .loc[row_indexer,col_indexer] = value instead\n",
      "\n",
      "See the caveats in the documentation: https://pandas.pydata.org/pandas-docs/stable/user_guide/indexing.html#returning-a-view-versus-a-copy\n",
      "  df_jun_sep[numcols] = imputer.fit_transform(df_jun_sep[numcols])\n"
     ]
    }
   ],
   "source": [
    "# Separating the categorical and numerical columns\n",
    "catcols = df_jun_sep.select_dtypes(exclude=np.number).columns\n",
    "numcols = df_jun_sep.select_dtypes(include=np.number).columns\n",
    "\n",
    "# Filling the missing values in numerical columns with mean \n",
    "imputer = SimpleImputer(strategy='mean')\n",
    "df_jun_sep[numcols] = imputer.fit_transform(df_jun_sep[numcols])\n",
    "#print(df_jun_sep[numcols])\n",
    "#print(df_jun_sep['PRECIP'].mean())\n",
    "\n",
    "df_jun_sep.to_excel('df_jun_sep.xlsx')"
   ]
  },
  {
   "cell_type": "code",
   "execution_count": 6,
   "id": "ed78bb24",
   "metadata": {},
   "outputs": [
    {
     "name": "stdout",
     "output_type": "stream",
     "text": [
      "Date          0.00\n",
      "Name          0.00\n",
      "Elevation     0.00\n",
      "Lat           0.00\n",
      "Lon           0.00\n",
      "TMPMAX        4.61\n",
      "TMPMIN        4.91\n",
      "RELHUM       46.06\n",
      "SUNHRS       54.61\n",
      "WINSPD       14.30\n",
      "WINDIR       14.24\n",
      "PRECIP        4.27\n",
      "dtype: float64\n"
     ]
    }
   ],
   "source": [
    "# Extract data from Feb to may for all years\n",
    "df_feb_may = dfcopy[(dfcopy['Date'] >= start_date) & (dfcopy['Date'] <= end_date) & \n",
    "                        (dfcopy['Date'].dt.month >= 2) & (dfcopy['Date'].dt.month <= 5)]\n",
    "\n",
    "#finding the percentage of missing values of the second season\n",
    "missed_percent = df_feb_may.isnull().sum()*100 / len(df_feb_may)\n",
    "missed_percent = np.around(missed_percent, decimals=2)\n",
    "print(missed_percent)"
   ]
  },
  {
   "cell_type": "code",
   "execution_count": 7,
   "id": "9cb02ce1",
   "metadata": {},
   "outputs": [
    {
     "name": "stderr",
     "output_type": "stream",
     "text": [
      "C:\\Users\\User\\AppData\\Local\\Temp\\ipykernel_6596\\3725017892.py:7: SettingWithCopyWarning: \n",
      "A value is trying to be set on a copy of a slice from a DataFrame.\n",
      "Try using .loc[row_indexer,col_indexer] = value instead\n",
      "\n",
      "See the caveats in the documentation: https://pandas.pydata.org/pandas-docs/stable/user_guide/indexing.html#returning-a-view-versus-a-copy\n",
      "  df_feb_may[numcols] = imputer.fit_transform(df_feb_may[numcols])\n"
     ]
    },
    {
     "name": "stdout",
     "output_type": "stream",
     "text": [
      "25.282761529808777\n",
      "10.981241184767278\n",
      "59.82098458478369\n",
      "7.875472813238771\n",
      "4.1998435054773084\n",
      "125.60744447919926\n",
      "2.0481087139254694\n"
     ]
    }
   ],
   "source": [
    "#separating the numerical and categorical columns\n",
    "numcols = df_feb_may.select_dtypes(include=np.number).columns\n",
    "catcols = df_feb_may.select_dtypes(exclude=np.number).columns\n",
    "\n",
    "#filling the missing values in numerical columns with mean\n",
    "imputer = SimpleImputer(strategy='mean')\n",
    "df_feb_may[numcols] = imputer.fit_transform(df_feb_may[numcols])\n",
    "#print(df_feb_may[numcols])\n",
    "print(df_feb_may['TMPMAX'].mean())\n",
    "print(df_feb_may['TMPMIN'].mean())\n",
    "print(df_feb_may['RELHUM'].mean())\n",
    "print(df_feb_may['SUNHRS'].mean())\n",
    "print(df_feb_may['WINSPD'].mean())\n",
    "print(df_feb_may['WINDIR'].mean())\n",
    "print(df_feb_may['PRECIP'].mean())\n",
    "\n",
    "df_feb_may.to_excel('df_feb_may.xlsx')"
   ]
  },
  {
   "cell_type": "code",
   "execution_count": 8,
   "id": "5dd72bef",
   "metadata": {},
   "outputs": [
    {
     "name": "stdout",
     "output_type": "stream",
     "text": [
      "Date          0.00\n",
      "Name          0.00\n",
      "Elevation     0.00\n",
      "Lat           0.00\n",
      "Lon           0.00\n",
      "TMPMAX        4.51\n",
      "TMPMIN        3.83\n",
      "RELHUM       38.26\n",
      "SUNHRS       53.47\n",
      "WINSPD       11.04\n",
      "WINDIR       11.04\n",
      "PRECIP        2.28\n",
      "dtype: float64\n"
     ]
    }
   ],
   "source": [
    "# Extract data from Feb to may for all years\n",
    "df_oct_jan = dfcopy[(dfcopy['Date'] >= start_date) & (dfcopy['Date'] <= end_date) & \n",
    "                        ((dfcopy['Date'].dt.month >= 10) | (dfcopy['Date'].dt.month <= 1))]\n",
    "\n",
    "#finding the percentage of missing values for the thrid season\n",
    "missed_percent = df_oct_jan.isnull().sum()*100 / len(df_oct_jan)\n",
    "missed_percent = np.around(missed_percent, decimals=2)\n",
    "print(missed_percent)"
   ]
  },
  {
   "cell_type": "code",
   "execution_count": 9,
   "id": "516876e1",
   "metadata": {},
   "outputs": [
    {
     "name": "stderr",
     "output_type": "stream",
     "text": [
      "C:\\Users\\User\\AppData\\Local\\Temp\\ipykernel_6596\\894088056.py:7: SettingWithCopyWarning: \n",
      "A value is trying to be set on a copy of a slice from a DataFrame.\n",
      "Try using .loc[row_indexer,col_indexer] = value instead\n",
      "\n",
      "See the caveats in the documentation: https://pandas.pydata.org/pandas-docs/stable/user_guide/indexing.html#returning-a-view-versus-a-copy\n",
      "  df_oct_jan[numcols] = imputer.fit_transform(df_oct_jan[numcols])\n"
     ]
    },
    {
     "name": "stdout",
     "output_type": "stream",
     "text": [
      "23.518319143092558\n",
      "8.143141532587945\n",
      "58.86703483432457\n",
      "9.081172491544532\n",
      "4.502918632075471\n",
      "113.93985849056604\n",
      "0.4311325818572195\n"
     ]
    }
   ],
   "source": [
    "#separating the numerical and categorical columns\n",
    "numcols = df_oct_jan.select_dtypes(include=np.number).columns\n",
    "catcols = df_oct_jan.select_dtypes(exclude=np.number).columns\n",
    "\n",
    "#filling the missing values in numerical columns with mean\n",
    "imputer = SimpleImputer(strategy='mean')\n",
    "df_oct_jan[numcols] = imputer.fit_transform(df_oct_jan[numcols])\n",
    "#print(df_feb_may[numcols])\n",
    "print(df_oct_jan['TMPMAX'].mean())\n",
    "print(df_oct_jan['TMPMIN'].mean())\n",
    "print(df_oct_jan['RELHUM'].mean())\n",
    "print(df_oct_jan['SUNHRS'].mean())\n",
    "print(df_oct_jan['WINSPD'].mean())\n",
    "print(df_oct_jan['WINDIR'].mean())\n",
    "print(df_oct_jan['PRECIP'].mean())\n",
    "\n",
    "df_oct_jan.to_excel('df_oct_jan.xlsx')"
   ]
  },
  {
   "cell_type": "code",
   "execution_count": 10,
   "id": "f797cb07",
   "metadata": {},
   "outputs": [],
   "source": [
    "# Create a list of the separate excel files\n",
    "data_frames  = [df_jun_sep, df_feb_may, df_oct_jan]\n",
    "from functools import reduce"
   ]
  },
  {
   "cell_type": "code",
   "execution_count": null,
   "id": "c74526cf",
   "metadata": {},
   "outputs": [],
   "source": [
    "import os\n",
    "import glob\n",
    "os.chdir('')\n",
    "\n",
    "extension = 'xlsx'\n",
    "filenames = [i for i in glob.glob('*.{}'.format(extension))]"
   ]
  },
  {
   "cell_type": "code",
   "execution_count": null,
   "id": "ba39353b",
   "metadata": {},
   "outputs": [],
   "source": [
    "#combine all files in the list\n",
    "df = pd.concat([pd.read_excel(f) for f in filenames])\n",
    "df.sort_values(['Date'], axis = 0, ascending=[True], inplace = True)\n",
    "#print(df)\n",
    "df.to_excel('data_mean_imputation.xlsx')"
   ]
  }
 ],
 "metadata": {
  "kernelspec": {
   "display_name": "Python 3 (ipykernel)",
   "language": "python",
   "name": "python3"
  },
  "language_info": {
   "codemirror_mode": {
    "name": "ipython",
    "version": 3
   },
   "file_extension": ".py",
   "mimetype": "text/x-python",
   "name": "python",
   "nbconvert_exporter": "python",
   "pygments_lexer": "ipython3",
   "version": "3.8.15"
  }
 },
 "nbformat": 4,
 "nbformat_minor": 5
}
