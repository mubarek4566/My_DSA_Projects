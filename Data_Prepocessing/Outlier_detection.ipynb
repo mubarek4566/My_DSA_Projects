{
 "cells": [
  {
   "cell_type": "code",
   "execution_count": 1,
   "id": "0b906912",
   "metadata": {},
   "outputs": [],
   "source": [
    "# Loading Libraries\n",
    "import numpy as np\n",
    "import pandas as pd\n",
    "import matplotlib.pyplot as plt\n",
    "import seaborn as sns\n",
    "%matplotlib inline\n",
    "from sklearn.impute import SimpleImputer\n",
    "from sklearn.linear_model import LinearRegression"
   ]
  },
  {
   "cell_type": "code",
   "execution_count": 2,
   "id": "43308777",
   "metadata": {},
   "outputs": [
    {
     "name": "stdout",
     "output_type": "stream",
     "text": [
      "Index(['Date', 'Name', 'Elevation', 'Lat', 'Lon', 'TMPMAX', 'TMPMIN', 'RELHUM',\n",
      "       'SUNHRS', 'WINSPD', 'WINDIR', 'PRECIP'],\n",
      "      dtype='object')\n"
     ]
    }
   ],
   "source": [
    "# Read the csv file after missing value replaced\n",
    "data = pd.read_excel('AA_data_mean_imputation.xlsx')\n",
    "print(data.columns)"
   ]
  },
  {
   "cell_type": "code",
   "execution_count": 3,
   "id": "2ba00cb6",
   "metadata": {},
   "outputs": [],
   "source": [
    "# Define the outlier detection criteria and use z_score\n",
    "z_score = 3     # Threshold z-score value for outlier detection"
   ]
  },
  {
   "cell_type": "code",
   "execution_count": null,
   "id": "0921ae41",
   "metadata": {},
   "outputs": [],
   "source": []
  },
  {
   "cell_type": "code",
   "execution_count": 4,
   "id": "21a74ae4",
   "metadata": {},
   "outputs": [
    {
     "name": "stdout",
     "output_type": "stream",
     "text": [
      "23.599306915134093 2.21464983833468\n",
      "30.243256430138132 16.955357400130055\n"
     ]
    }
   ],
   "source": [
    "# detect and replace outliers for TMPMAX\n",
    "max_tamp_mean = data['TMPMAX'].mean()\n",
    "max_tamp_std = data['TMPMAX'].std()\n",
    "max_temp_upper_threshold = max_tamp_mean + (z_score * max_tamp_std)\n",
    "max_temp_lower_threshold = max_tamp_mean - (z_score * max_tamp_std)\n",
    "print(max_tamp_mean, max_tamp_std)\n",
    "print(max_temp_upper_threshold, max_temp_lower_threshold)\n",
    "\n",
    "data['TMPMAX'] = data['TMPMAX'].apply(lambda x: max_temp_upper_threshold if x > max_temp_upper_threshold else x)\n",
    "data['TMPMAX'] = data['TMPMAX'].apply(lambda x: max_temp_lower_threshold if x < max_temp_lower_threshold else x)\n",
    "#print(data['TMPMAX'])"
   ]
  },
  {
   "cell_type": "code",
   "execution_count": 5,
   "id": "1647a82c",
   "metadata": {},
   "outputs": [
    {
     "name": "stdout",
     "output_type": "stream",
     "text": [
      "17.87779808413601 2.492728974507009\n"
     ]
    }
   ],
   "source": [
    "# Identify and replace outliers for TMPMIN\n",
    "\n",
    "min_temp_mean = data['TMPMIN'].mean()\n",
    "min_temp_std = data['TMPMIN'].std()\n",
    "min_temp_upper_threshold = min_temp_mean + (z_score * min_temp_std)\n",
    "min_temp_lower_threshold = min_temp_mean - (z_score * min_temp_std)\n",
    "print(min_temp_upper_threshold, min_temp_lower_threshold)\n",
    "\n",
    "data['TMPMIN'] = data['TMPMIN'].apply(lambda x: min_temp_upper_threshold if x > min_temp_upper_threshold else x)\n",
    "data['TMPMIN'] = data['TMPMIN'].apply(lambda x: min_temp_lower_threshold if x < min_temp_lower_threshold else x)"
   ]
  },
  {
   "cell_type": "code",
   "execution_count": 6,
   "id": "f028be55",
   "metadata": {},
   "outputs": [
    {
     "name": "stdout",
     "output_type": "stream",
     "text": [
      "106.47348714557694 24.827142847939676\n"
     ]
    }
   ],
   "source": [
    "# Identify and replace outliers for RELATIVE HUMIDITY\n",
    "Rh_mean = data['RELHUM'].mean()\n",
    "Rh_std = data['RELHUM'].std()\n",
    "Rh_upper_threshold = Rh_mean + (z_score * Rh_std)\n",
    "Rh_lower_threshold = Rh_mean - (z_score * Rh_std)\n",
    "print(Rh_upper_threshold, Rh_lower_threshold)\n",
    "\n",
    "data['RELHUM'] = data['RELHUM'].apply(lambda x: Rh_upper_threshold if x > Rh_upper_threshold else x)\n",
    "data['RELHUM'] = data['RELHUM'].apply(lambda x: Rh_lower_threshold if x < Rh_lower_threshold else x)"
   ]
  },
  {
   "cell_type": "code",
   "execution_count": 7,
   "id": "335a9e55",
   "metadata": {},
   "outputs": [
    {
     "name": "stdout",
     "output_type": "stream",
     "text": [
      "15.1033496846648 -0.7665529564664837\n"
     ]
    }
   ],
   "source": [
    "# Identify and replace outliers for SUNHRS\n",
    "sunh_mean = data['SUNHRS'].mean()\n",
    "sunh_std = data['SUNHRS'].std()\n",
    "sun_upper_threshold = sunh_mean + (z_score * sunh_std)\n",
    "sun_lower_threshold = sunh_mean - (z_score * sunh_std)\n",
    "print(sun_upper_threshold, sun_lower_threshold)\n",
    "\n",
    "data['SUNHRS'] = data['SUNHRS'].apply(lambda x: sun_upper_threshold if x > sun_upper_threshold else x)\n",
    "data['SUNHRS'] = data['SUNHRS'].apply(lambda x: sun_lower_threshold if x < sun_lower_threshold else x)"
   ]
  },
  {
   "cell_type": "code",
   "execution_count": 8,
   "id": "6746df73",
   "metadata": {},
   "outputs": [
    {
     "name": "stdout",
     "output_type": "stream",
     "text": [
      "9.800546185089743 -1.9452038228559312\n"
     ]
    }
   ],
   "source": [
    "# Identify and replace outliers for WINDSPD\n",
    "windsp_mean = data['WINSPD'].mean()\n",
    "windsp_std = data['WINSPD'].std()\n",
    "windsp_upper_threshold = windsp_mean + (z_score * windsp_std)\n",
    "windsp_lower_threshold = windsp_mean - (z_score * windsp_std)\n",
    "print(windsp_upper_threshold, windsp_lower_threshold)\n",
    "\n",
    "data['WINSPD'] = data['WINSPD'].apply(lambda x: sun_upper_threshold if x > sun_upper_threshold else x)\n",
    "data['WINSPD'] = data['WINSPD'].apply(lambda x: sun_lower_threshold if x < sun_lower_threshold else x)"
   ]
  },
  {
   "cell_type": "code",
   "execution_count": 10,
   "id": "43d03a95",
   "metadata": {},
   "outputs": [],
   "source": [
    "# Identify and replace outliers for WINDIR\n",
    "pressure_mean = data['WINDIR'].mean()\n",
    "pressure_std = data['WINDIR'].std()\n",
    "pressure_upper_threshold = pressure_mean + (z_score * pressure_std)\n",
    "pressure_lower_threshold = pressure_mean - (z_score * pressure_std)\n",
    "\n",
    "data['WINDIR'] = data['WINDIR'].apply(lambda x: pressure_upper_threshold if x > pressure_upper_threshold else x)\n",
    "data['WINDIR'] = data['WINDIR'].apply(lambda x: pressure_lower_threshold if x < pressure_lower_threshold else x)"
   ]
  },
  {
   "cell_type": "code",
   "execution_count": null,
   "id": "c34bb8b2",
   "metadata": {},
   "outputs": [],
   "source": [
    "# Save the cleaned data to a new csv file \n",
    "data.to_excel('cleaned_data.xlsx')"
   ]
  }
 ],
 "metadata": {
  "kernelspec": {
   "display_name": "Python 3 (ipykernel)",
   "language": "python",
   "name": "python3"
  },
  "language_info": {
   "codemirror_mode": {
    "name": "ipython",
    "version": 3
   },
   "file_extension": ".py",
   "mimetype": "text/x-python",
   "name": "python",
   "nbconvert_exporter": "python",
   "pygments_lexer": "ipython3",
   "version": "3.8.15"
  }
 },
 "nbformat": 4,
 "nbformat_minor": 5
}
